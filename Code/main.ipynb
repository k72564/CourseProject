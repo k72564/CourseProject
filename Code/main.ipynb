{
 "cells": [
  {
   "cell_type": "code",
   "execution_count": 1,
   "metadata": {},
   "outputs": [],
   "source": [
    "from selenium import webdriver\n",
    "from model import supportVectorMachineModel\n",
    "from bs4 import BeautifulSoup\n",
    "from selenium.webdriver.chrome.options import Options\n",
    "\n",
    "common_terms=[\"directory\",\"faculty\",\"faculty-staff\",\"faculty-directory\",\"people\",\"people-page\",\"staff\",\n",
    "              \"teaching-faculty\",\"about-people\",\"members\",\"all-faculty-staff\",\"faculty-and-staff\",\n",
    "              \"faculty-list\",\"professors\",\"faculty-profiles\"]\n",
    "\n",
    "class scraper:\n",
    "    def __init__(instance):\n",
    "        options=Options()\n",
    "        options.headless=True\n",
    "        instance.driver=webdriver.Chrome(\"./chromedriver.exe\",options=options)\n",
    "        instance.classification=supportVectorMachineModel()\n",
    "        instance.classification.start()\n",
    "\n",
    "    def check_link(instance,url):\n",
    "        for part in [part for part in url.split(\"/\") if part]:\n",
    "            for term in common_terms:\n",
    "                if term in part:\n",
    "                    if len(part)!=len(term):\n",
    "                        return False\n",
    "\n",
    "        return True\n",
    "\n",
    "    def get_all_directories(instance,base_link):\n",
    "        results=[]\n",
    "        \n",
    "        instance.driver.get(base_link)\n",
    "        res_html=instance.driver.execute_script(\"return document.body.innerHTML\")\n",
    "        soup=BeautifulSoup(res_html,\"html.parser\")\n",
    "\n",
    "        for element in soup.find_all(\"a\"):\n",
    "            result=base_link+element.get(\"href\",\"\")\n",
    "            if instance.check_link(result) and instance.classification.analyze(result)==\"1\" and (result not in results):\n",
    "                results.append(result)\n",
    "\n",
    "        return results\n",
    "\n",
    "    def get_all_faculties(instance,base_link,test_link):\n",
    "        results=[]\n",
    "        \n",
    "        instance.driver.get(test_link)\n",
    "        res_html=instance.driver.execute_script(\"return document.body.innerHTML\")\n",
    "        soup=BeautifulSoup(res_html,\"html.parser\")\n",
    "\n",
    "        for element in soup.find_all(\"a\"):\n",
    "            result=base_link+element.get(\"href\",\"\")\n",
    "            if (result!=test_link) and instance.classification.analyze(result)==\"1\" and (result not in results):\n",
    "                results.append(result)\n",
    "\n",
    "        return results\n",
    "\n",
    "    def start_scraping(instance,base_link):\n",
    "        results=[]\n",
    "        total_size=100\n",
    "        \n",
    "        for element in instance.get_all_directories(base_link):\n",
    "            if (len(results)<total_size):\n",
    "                for current in instance.get_all_faculties(base_link,element):\n",
    "                    if current not in results:\n",
    "                        results.append(current)\n",
    "\n",
    "        return results"
   ]
  },
  {
   "cell_type": "code",
   "execution_count": 2,
   "metadata": {},
   "outputs": [
    {
     "name": "stderr",
     "output_type": "stream",
     "text": [
      "<ipython-input-1-c537e5247d18>:14: DeprecationWarning: executable_path has been deprecated, please pass in a Service object\n",
      "  instance.driver=webdriver.Chrome(\"./chromedriver.exe\",options=options)\n"
     ]
    }
   ],
   "source": [
    "scraper1=scraper()\n",
    "\n",
    "url=\"https://cse.osu.edu/\"\n",
    "directory_urls=scraper1.get_all_directories(url)\n",
    "faculty_urls=scraper1.start_scraping(url)\n",
    "\n",
    "# write directory urls to directory_urls.txt\n",
    "file=open(\"directory_urls.txt\",\"w\")\n",
    "for url in directory_urls:\n",
    "    file.write(url)\n",
    "    file.write(\"\\n\")\n",
    "file.close()\n",
    "\n",
    "# write faculty urls to faculty_urls.txt\n",
    "file=open(\"faculty_urls.txt\",\"w\")\n",
    "for url in faculty_urls:\n",
    "    file.write(url)\n",
    "    file.write(\"\\n\")\n",
    "file.close()"
   ]
  },
  {
   "cell_type": "code",
   "execution_count": 3,
   "metadata": {},
   "outputs": [
    {
     "name": "stdout",
     "output_type": "stream",
     "text": [
      "Successfully found 17 directory urls and 102 faculty urls\n"
     ]
    }
   ],
   "source": [
    "print('Successfully found '+str(len(directory_urls))+' directory urls and '+str(len(faculty_urls))+' faculty urls')"
   ]
  },
  {
   "cell_type": "code",
   "execution_count": null,
   "metadata": {},
   "outputs": [],
   "source": []
  },
  {
   "cell_type": "code",
   "execution_count": null,
   "metadata": {},
   "outputs": [],
   "source": []
  },
  {
   "cell_type": "code",
   "execution_count": null,
   "metadata": {},
   "outputs": [],
   "source": []
  }
 ],
 "metadata": {
  "kernelspec": {
   "display_name": "Python 3",
   "language": "python",
   "name": "python3"
  },
  "language_info": {
   "codemirror_mode": {
    "name": "ipython",
    "version": 3
   },
   "file_extension": ".py",
   "mimetype": "text/x-python",
   "name": "python",
   "nbconvert_exporter": "python",
   "pygments_lexer": "ipython3",
   "version": "3.8.8"
  }
 },
 "nbformat": 4,
 "nbformat_minor": 4
}
